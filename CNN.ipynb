{
 "cells": [
  {
   "cell_type": "code",
   "execution_count": 2,
   "id": "f685f6b3",
   "metadata": {},
   "outputs": [
    {
     "name": "stderr",
     "output_type": "stream",
     "text": [
      "C:\\Users\\Chinmay Mittal\\anaconda3\\envs\\ml\\lib\\site-packages\\torchvision\\io\\image.py:11: UserWarning: Failed to load image Python extension: Could not find module 'C:\\Users\\Chinmay Mittal\\anaconda3\\envs\\ml\\lib\\site-packages\\torchvision\\image.pyd' (or one of its dependencies). Try using the full path with constructor syntax.\n",
      "  warn(f\"Failed to load image Python extension: {e}\")\n"
     ]
    }
   ],
   "source": [
    "########### PACKAGES #############\n",
    "\n",
    "import torch\n",
    "import torchvision \n",
    "import torch.nn as nn\n",
    "import matplotlib.pyplot as plt\n",
    "from torch import nn\n",
    "from torch import optim"
   ]
  },
  {
   "cell_type": "code",
   "execution_count": 44,
   "id": "19cee373",
   "metadata": {},
   "outputs": [],
   "source": [
    "########### Creating Datasets ###########\n",
    "transform = torchvision.transforms.Compose( [ torchvision.transforms.ToTensor()])\n",
    "mnist_data = torchvision.datasets.MNIST( root = './MNIST_DATA' , download = True , train = True  , transform = transform )\n",
    "train_dataset, val_dataset = torch.utils.data.random_split(mnist_data, [48000, 12000])\n",
    "test_dataset = torchvision.datasets.MNIST ( \"./MNIST_DATA\" , train = False , transform = transform  , download = True)\n",
    "val_loader = torch.utils.data.DataLoader( val_dataset) \n",
    "test_loader = torch.utils.data.DataLoader(  test_dataset ) \n",
    "\n",
    "training_batch_size = 128 \n",
    "train_loader = torch.utils.data.DataLoader( train_dataset, batch_size = training_batch_size )\n"
   ]
  },
  {
   "cell_type": "code",
   "execution_count": 23,
   "id": "c4fdcedf",
   "metadata": {},
   "outputs": [
    {
     "name": "stdout",
     "output_type": "stream",
     "text": [
      "torch.Size([1, 28, 28])\n"
     ]
    }
   ],
   "source": [
    "print ( train_dataset[0][0].shape ) "
   ]
  },
  {
   "cell_type": "code",
   "execution_count": 24,
   "id": "2c6b6052",
   "metadata": {},
   "outputs": [
    {
     "data": {
      "text/plain": [
       "<matplotlib.image.AxesImage at 0x189895b9790>"
      ]
     },
     "execution_count": 24,
     "metadata": {},
     "output_type": "execute_result"
    },
    {
     "data": {
      "image/png": "[encoded data removed]",
      "text/plain": [
       "<Figure size 432x288 with 1 Axes>"
      ]
     },
     "metadata": {
      "needs_background": "light"
     },
     "output_type": "display_data"
    }
   ],
   "source": [
    "plt.imshow( train_dataset[0][0][0] , cmap = 'gray')"
   ]
  },
  {
   "cell_type": "code",
   "execution_count": 43,
   "id": "1510a4f8",
   "metadata": {},
   "outputs": [],
   "source": [
    "class CNN( nn.Module) : \n",
    "    def __init__ ( self) :\n",
    "        super().__init__()\n",
    "        self.ReLU = nn.ReLU() \n",
    "        self.conv1 = nn.Conv2d( 1 , 16 , 3 )\n",
    "        self.conv2 = nn.Conv2d( 16, 32  , 3 )\n",
    "        self.pool2 = nn.MaxPool2d( kernel_size = 2 , stride = 2 )\n",
    "        self.dense1 = nn.Linear( 12*12*32 , 32 )\n",
    "        self.dense2 = nn.Linear( 32 , 10  )\n",
    "        self.dropout = nn.Dropout(0.5)\n",
    "    def forward(self ,  image) :  \n",
    "        x = image.view( -1 , 1 , 28 , 28 )\n",
    "        x = self.ReLU ( self.conv1(x) ) \n",
    "        x = self.ReLU ( self.conv2(x) ) \n",
    "        x = self.pool2(x)\n",
    "        x = x.view( -1 , 12*12*32 )\n",
    "        x = self.dropout( x )\n",
    "        x = self.ReLU ( self.dense1(x) ) \n",
    "        x = self.dense2(x)\n",
    "        return x"
   ]
  },
  {
   "cell_type": "code",
   "execution_count": 45,
   "id": "44a88046",
   "metadata": {},
   "outputs": [
    {
     "name": "stdout",
     "output_type": "stream",
     "text": [
      "The Loss is 0.09480617195367813 for epoch 0\n",
      "The Loss is 0.04743863642215729 for epoch 1\n",
      "The Loss is 0.05354253575205803 for epoch 2\n",
      "The Loss is 0.032401084899902344 for epoch 3\n",
      "The Loss is 0.04331481456756592 for epoch 4\n",
      "The Loss is 0.059222422540187836 for epoch 5\n",
      "The Loss is 0.040990669280290604 for epoch 6\n",
      "The Loss is 0.017694110050797462 for epoch 7\n",
      "The Loss is 0.0719180703163147 for epoch 8\n",
      "The Loss is 0.020646246150135994 for epoch 9\n",
      "The Loss is 0.019590971991419792 for epoch 10\n",
      "The Loss is 0.0291220061480999 for epoch 11\n",
      "The Loss is 0.030039047822356224 for epoch 12\n",
      "The Loss is 0.018605783581733704 for epoch 13\n",
      "The Loss is 0.017319291830062866 for epoch 14\n",
      "The Loss is 0.02319890633225441 for epoch 15\n"
     ]
    }
   ],
   "source": [
    "model = CNN()\n",
    "params = model.parameters()\n",
    "lossFn = nn.CrossEntropyLoss()\n",
    "optimizer = torch.optim.Adam(model.parameters())\n",
    "loss_list  = [] \n",
    "n_epochs = 15\n",
    "for epoch in range(n_epochs+1) : \n",
    "    for i , ( X , Y ) in enumerate(train_loader) : \n",
    "        X = torch.autograd.Variable(X)\n",
    "        Y = torch.autograd.Variable(Y)\n",
    "        output = model(X)\n",
    "        optimizer.zero_grad()\n",
    "        loss = lossFn( output , Y )\n",
    "        loss.backward()\n",
    "        optimizer.step()\n",
    "        loss_list.append(loss)\n",
    "    print(f\"The Loss is {loss_list[-1]} for epoch {epoch}\")"
   ]
  },
  {
   "cell_type": "code",
   "execution_count": 49,
   "id": "cbd8f471",
   "metadata": {},
   "outputs": [
    {
     "data": {
      "image/png": "[encoded data removed]",
      "text/plain": [
       "<Figure size 864x576 with 1 Axes>"
      ]
     },
     "metadata": {
      "needs_background": "light"
     },
     "output_type": "display_data"
    }
   ],
   "source": [
    "plt.figure( figsize = (12,8))\n",
    "plt.plot( [ t.item() for t in loss_list ]   )\n",
    "plt.ylabel(\"J\")\n",
    "plt.xlabel(\"Number of iterations\");"
   ]
  },
  {
   "cell_type": "code",
   "execution_count": 47,
   "id": "2efc09d7",
   "metadata": {},
   "outputs": [
    {
     "name": "stdout",
     "output_type": "stream",
     "text": [
      "The accuracy of the model on the validation dataset is 98.35000000000001\n"
     ]
    }
   ],
   "source": [
    "correct = 0 \n",
    "total = 0 \n",
    "for i , (X , Y ) in enumerate(val_loader) : \n",
    "    with torch.no_grad(): \n",
    "        output = model(X)\n",
    "        pred = torch.argmax( output ).item()\n",
    "        if( pred == Y.item() ) : \n",
    "            correct += 1\n",
    "        total += 1\n",
    "print( f\"The accuracy of the model on the validation dataset is {correct/total*100}\" )"
   ]
  },
  {
   "cell_type": "code",
   "execution_count": 42,
   "id": "f6631c55",
   "metadata": {},
   "outputs": [
    {
     "name": "stdout",
     "output_type": "stream",
     "text": [
      "The accuracy of the model on the training dataset is 99.31458333333333\n"
     ]
    }
   ],
   "source": [
    "correct = 0 \n",
    "total = 0 \n",
    "train_loader = torch.utils.data.DataLoader( train_dataset) \n",
    "for i , (X , Y ) in enumerate(train_loader) : \n",
    "    with torch.no_grad(): \n",
    "        output = model(X)\n",
    "        pred = torch.argmax( output ).item()\n",
    "        if( pred == Y.item() ) : \n",
    "            correct += 1\n",
    "        total += 1\n",
    "print( f\"The accuracy of the model on the training dataset is {correct/total*100}\" )"
   ]
  },
  {
   "cell_type": "code",
   "execution_count": null,
   "id": "20b10fcf",
   "metadata": {},
   "outputs": [],
   "source": []
  },
  {
   "cell_type": "code",
   "execution_count": null,
   "id": "2093bda4",
   "metadata": {},
   "outputs": [],
   "source": []
  }
 ],
 "metadata": {
  "kernelspec": {
   "display_name": "Python 3",
   "language": "python",
   "name": "python3"
  },
  "language_info": {
   "codemirror_mode": {
    "name": "ipython",
    "version": 3
   },
   "file_extension": ".py",
   "mimetype": "text/x-python",
   "name": "python",
   "nbconvert_exporter": "python",
   "pygments_lexer": "ipython3",
   "version": "3.8.8"
  }
 },
 "nbformat": 4,
 "nbformat_minor": 5
}
